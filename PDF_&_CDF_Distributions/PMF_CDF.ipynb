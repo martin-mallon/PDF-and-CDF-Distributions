{
 "cells": [
  {
   "cell_type": "code",
   "execution_count": null,
   "id": "a18af6cb",
   "metadata": {},
   "outputs": [],
   "source": [
    "# libraries\n",
    "import numpy as np\n",
    "import pandas as pd\n",
    "import seaborn as sns\n",
    "import matplotlib.pyplot as plt\n",
    "\n",
    "\n",
    "######################## PMF ########################\n",
    "\n",
    "# probability mass function\n",
    "def pmf(data, col, norm):\n",
    "    \n",
    "    from empiricaldist import Pmf\n",
    "    pmf = Pmf.from_seq(data[col], normalize=norm)\n",
    "    \n",
    "    pmf = pd.DataFrame(pmf)\n",
    "    pmf.reset_index(inplace=True)\n",
    "    pmf.columns = [col, 'probs']\n",
    "    \n",
    "    return pmf\n",
    "\n",
    "# pmf bar\n",
    "def pmf_bar(ax, data, x, y, c, legloc):\n",
    "    sns.barplot(ax=ax, data=data, x=x, y=y, color=c, label='PMF', alpha=0.5)\n",
    "    ax.set_title(f'PMF: {x}')\n",
    "    ax.set_xlabel(x)\n",
    "    ax.set_ylabel('Probability Mass Function (PDF)')\n",
    "    ax.legend(loc=legloc)\n",
    "    return ax\n",
    "\n",
    "\n",
    "######################## CDF ########################\n",
    "\n",
    "# cumulative distribution function\n",
    "def cdf(data, col, norm):\n",
    "    \n",
    "    from empiricaldist import Cdf\n",
    "    cdf = Cdf.from_seq(data[col], normalize=norm)\n",
    "    \n",
    "    cdf = pd.DataFrame(cdf)\n",
    "    cdf.reset_index(inplace=True)\n",
    "    cdf.columns = [col, 'probs']\n",
    "    \n",
    "    return cdf\n",
    "\n",
    "# cdf line\n",
    "def cdf_line(ax, data, x, y, c, legloc):\n",
    "    sns.lineplot(ax=ax, data=data, x=x, y=y, color=c, label='CDF')\n",
    "    ax.set_title(f'CDF: {x}')\n",
    "    ax.set_xlabel(x)\n",
    "    ax.set_ylabel('Cumulative Distribution Function (CDF)')\n",
    "    ax.legend(loc=legloc)\n",
    "    return ax"
   ]
  }
 ],
 "metadata": {
  "kernelspec": {
   "display_name": "Python 3",
   "language": "python",
   "name": "python3"
  },
  "language_info": {
   "codemirror_mode": {
    "name": "ipython",
    "version": 3
   },
   "file_extension": ".py",
   "mimetype": "text/x-python",
   "name": "python",
   "nbconvert_exporter": "python",
   "pygments_lexer": "ipython3",
   "version": "3.8.8"
  }
 },
 "nbformat": 4,
 "nbformat_minor": 5
}
